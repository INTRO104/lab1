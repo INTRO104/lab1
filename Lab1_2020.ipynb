{
 "cells": [
  {
   "cell_type": "markdown",
   "metadata": {},
   "source": [
    "# Welcome to your first lab assignment!\n",
    "\n",
    "There are **bold faced, numbered** tasks listed below.  Read through the assignment, doing the tasks as you get to them.\n"
   ]
  },
  {
   "cell_type": "markdown",
   "metadata": {},
   "source": [
    "## Documentation\n",
    "\n",
    "Documentation of your code, or explaining to other people what it does and how it works, is an important part of programming and data analysis.  So important that we're starting our first lab with it!  That's also why you're using jupyter - there are many other choices of IDE (integrated development environment) that we could be using, jupyter is nice because it makes documentation easy and therefore more likely.\n",
    "\n",
    "There are a lot of purposes of documentation, and a lot of things that good documentation should be sure to include.  We have a suggested full list of questions your documentation should answer here:\n",
    "\n",
    "> <http://www.cs.haverford.edu/courses/cmsc104/documentation.pdf>\n",
    "\n",
    "**1) Your first task for this lab is to read the linked pdf.**\n",
    "\n",
    "As you become more comfortable with coding and documentation, we'll expect you to more strictly adhere to those guidelines.  For now, you should read with an eye to understanding the goal of the questions asked (which we'll discuss more in class) and internalizing the goal of programming for communication.\n",
    "\n",
    "But the first step is to learn how to add documentation at all!\n",
    "\n",
    "### Adding documentation in jupyter\n",
    "\n",
    "These paragraphs you've been reading are my documentation to you of how to do this lab.  How did I add them?  Happily, that's pretty easy.  Just go to:\n",
    "> Insert -> Insert Cell Below\n",
    "\n",
    "and then choose \"Markdown\" from the dropdown menu also above.  That gives you a cell where you can write in Markdown. (If you like keyboard short cuts, use esc-b instead.)\n",
    "\n",
    "But what's Markdown?  Markdown is a lightweight markup lanuage that let's you make text look good.  It's a lot like HTML if you're familiar with that.  If not, no worries.  You can start by simply writing text and it will show up.  To add some formatting, like you see above, try out various options that you can find at this [Markdown cheatsheet](https://github.com/adam-p/markdown-here/wiki/Markdown-Cheatsheet).\n",
    "\n",
    "**2) Create a new markdown cell below this one.  In it, write a paragraph introducing yourself to me, the lab instructor, and the TAs.  Why are you taking this class?  What's something you're interested in (broadly)?  Be sure to include at least two formatting elements that are not just basic plain text.**\n",
    "\n",
    "Oh - and to get the formatted text to appear type Control-Enter.  To go back to editing the text, double-click."
   ]
  },
  {
   "cell_type": "markdown",
   "metadata": {},
   "source": [
    "### Comments\n",
    "\n",
    "The type of documentation you just added is good for high-level documentation of your code.  If you want to explain what a specific section or line of code does, you should use comments.  In Python, there are two types of comments, one usually used for larger blocks of comments (explaining a small collection of code) and another used for inline comments (explaining a line of code).  The larger blocks are written with triple double quotes (\"\"\") around them while the smaller comments start with a #.\n",
    "\n",
    "For example, take a look at this Python code:"
   ]
  },
  {
   "cell_type": "code",
   "execution_count": null,
   "metadata": {},
   "outputs": [],
   "source": [
    "\"\"\"\n",
    "This code prints a list.\n",
    "\"\"\"\n",
    "list = [72,84, 2712]  # Creating the list to have 3 numbers.\n",
    "print(list)           # print the list"
   ]
  },
  {
   "cell_type": "markdown",
   "metadata": {},
   "source": [
    "Normally you don't comment EVERY line like I did, but some of them!  I've just included them so that you can learn what each of those lines does."
   ]
  },
  {
   "cell_type": "code",
   "execution_count": null,
   "metadata": {},
   "outputs": [],
   "source": [
    "list = []         \n",
    "list.append(72)   \n",
    "list.append(84)   \n",
    "list.append(2712) \n",
    "print(list)       "
   ]
  },
  {
   "cell_type": "markdown",
   "metadata": {},
   "source": [
    "You'll need to run the above cell (using Control-Enter or the run icon in the menu) to get the above code to do something.\n",
    "\n",
    "** 3) Add a comment block (''') at the top of the cell above explaining (briefly) what it does.**\n",
    "\n",
    "** 4) Add inline (#) comments to three of the above lines of code explaining (briefly) what they each do.**\n",
    "\n",
    "Note that jupyter adds color highlighting to code.  Consider what the different colors in the two code cells above mean.\n",
    "\n",
    "** 5) Consider the next piece of code below.  Add comments (both large \"\"\" indicated comments and smaller line-by-line # comments) to explain what the code is doing. **\n",
    "\n",
    "Note that I've given the variable (the list in this case) a useful name.  I could have called the variable \"hellos\" by the name \"x\", but that wouldn't have been as easy for you to understand when trying to understand the code I wrote.  Good variable names are an important part of documentation as well!\n"
   ]
  },
  {
   "cell_type": "code",
   "execution_count": null,
   "metadata": {},
   "outputs": [],
   "source": [
    "hellos = ['Hello', 'Hola', 'Guten Tag']\n",
    "print(hellos[0], \"!\")\n",
    "print(\"¡\", hellos[1], \"!\")\n",
    "print(hellos[2], \"!\")\n"
   ]
  },
  {
   "cell_type": "markdown",
   "metadata": {},
   "source": [
    "** 6) Add two more ways of saying hello to your list using \"append\". Print the list. Do this in the cell below. Comment your code. **"
   ]
  },
  {
   "cell_type": "code",
   "execution_count": null,
   "metadata": {},
   "outputs": [],
   "source": []
  },
  {
   "cell_type": "markdown",
   "metadata": {},
   "source": [
    "# For loops\n",
    "\n",
    "In this part of the lab you'll be working with \"for\" loops and lists.  Again, you'll start by commenting some code to explain what it does.  Start by reading the code and inserting comments that are your best guess of what is happening, paying special attention to any new terms.  Then run the code and adjust the comments.  Remember that you can run the code cells to find out what they do either from the above menu or by entering Control-Enter.  \n",
    "\n",
    "Loops are a really good way to get a computer to do a bunch of work for you.  Anytime you find yourself repeating something over and over again you probably need a loop.\n",
    "\n",
    "## Lists\n",
    "\n",
    "** 7) Add comments to the below code explaining what it does. ** Explain each variable (in this case, i, greeting, and hellos), and in this case, I want you to explain each line in addition to a block comment at the beginning. "
   ]
  },
  {
   "cell_type": "code",
   "execution_count": null,
   "metadata": {},
   "outputs": [],
   "source": [
    "for greeting in hellos:\n",
    "    print(\"Here's something you say to people when you see them: \", greeting)"
   ]
  },
  {
   "cell_type": "markdown",
   "metadata": {},
   "source": [
    "** 8) How will the output from this code look different?** (Again, guess, comment, and then go back and adjust the comments.)"
   ]
  },
  {
   "cell_type": "code",
   "execution_count": null,
   "metadata": {},
   "outputs": [],
   "source": [
    "i=1\n",
    "for greeting in hellos:\n",
    "    print(i, \"Here's something you say to people when you see them: \", greeting)\n",
    "    i=i+1"
   ]
  },
  {
   "cell_type": "markdown",
   "metadata": {},
   "source": [
    "There's another way to accomplish the same result. (This is often true in Python.)\n",
    "\n",
    "** 9) Again, start by commenting some code to explain what it does.  Start by reading the code and inserting comments that are your best guess of what is happening, paying special attention to any new terms.  Then run the code and adjust the comments.**\n",
    "\n",
    "(Note, when you turn this in, we won't be able to tell if you commented the code first with your guesses about what's happening, but it's really important to do this. It's an honor code violation if you don't.  Pedagogically speaking, something happens in your brain when you make yourself guess what different parts of the code do. It helps you learn.)"
   ]
  },
  {
   "cell_type": "code",
   "execution_count": null,
   "metadata": {},
   "outputs": [],
   "source": [
    "i=0\n",
    "for i in range(len(hellos)):\n",
    "    print(i+1, \"Here's something you say to people when you see them: \", hellos[i])"
   ]
  },
  {
   "cell_type": "markdown",
   "metadata": {},
   "source": [
    "Did you figure out what \"len\" does?  What I do when I don't know something is try it in a cell all by itself, like this (run the cell below to see what happens)."
   ]
  },
  {
   "cell_type": "code",
   "execution_count": null,
   "metadata": {},
   "outputs": [],
   "source": [
    "len(hellos)"
   ]
  },
  {
   "cell_type": "markdown",
   "metadata": {},
   "source": [
    "Hmmm, that's interesting.  Is that the number of items in the list named \"hellos\"?  Let's test our theory by appending another item to hellos. (run the cell below)"
   ]
  },
  {
   "cell_type": "code",
   "execution_count": null,
   "metadata": {},
   "outputs": [],
   "source": [
    "hellos.append(\"Bonjour\")\n",
    "len(hellos)"
   ]
  },
  {
   "cell_type": "markdown",
   "metadata": {},
   "source": [
    "And how about \"range\"?  Did you figure that out?  Again, when I'm wondering about things like that I try them by themselves."
   ]
  },
  {
   "cell_type": "code",
   "execution_count": null,
   "metadata": {},
   "outputs": [],
   "source": [
    "range(3)"
   ]
  },
  {
   "cell_type": "code",
   "execution_count": null,
   "metadata": {},
   "outputs": [],
   "source": [
    "for i in range(3):\n",
    "    print(i)"
   ]
  },
  {
   "cell_type": "markdown",
   "metadata": {},
   "source": [
    "You can use the _function_ \"range\" with three _arguments_ instead of one. where you want it to start and stop, and how many should be in each increment. The first argument is the start, the second is the stop, and the third is the increment. (Notice I'm trying to get you used to some lingo that you'll need soon: function, and argument.)"
   ]
  },
  {
   "cell_type": "code",
   "execution_count": null,
   "metadata": {},
   "outputs": [],
   "source": [
    "for i in range(14,22, 2):\n",
    "    print(i)"
   ]
  },
  {
   "cell_type": "markdown",
   "metadata": {},
   "source": [
    "Two comments about what just happened:\n",
    "    * len is short for \"length\", and it tells you the length of the list\n",
    "    * range returns a sequence of numbers that start and stop and increment however you like\n",
    "    * I just modeled what you do when you don't know what's going on, i.e. take a little piece of it and try it."
   ]
  },
  {
   "cell_type": "markdown",
   "metadata": {},
   "source": [
    "A comment about the two ways we just \"looped\".\n",
    "* In the first case we looped through the list using the syntax **\"for greeting in hellos:\"**.  There are some advantages to doing it this way. The code is a little cleaner, i.e. easier to read. The two things I'm comparing are:\n",
    "\n",
    "```for greeting in hellos:``` \n",
    "\n",
    "and \n",
    "\n",
    "```for i in range(len(hellos)):```\n",
    "\n",
    "* The first version is almost a normal sentence that a normal human could read.  It's clear that you want to do something with all the greetings in the list of hellos.  \n",
    "* The second version is kind of old school. That's how I learned to program, and you'll catch me using it sometimes when it's not actually the most elegant thing to do.  That being said, it does come in handy sometimes, so it's important to be able to do both."
   ]
  },
  {
   "cell_type": "markdown",
   "metadata": {},
   "source": [
    "### The next exercise is created from a mistake I made while I was making this lab. \n",
    "\n",
    "** 10) Again, start by commenting the code to explain what it does.  Start by reading the code and inserting comments that are your best guess of what is happening.  Then run the code and adjust the comments. (One in-line comment and one block comment minimum)**"
   ]
  },
  {
   "cell_type": "code",
   "execution_count": null,
   "metadata": {},
   "outputs": [],
   "source": [
    "i=0\n",
    "for i in range(len(hellos)):\n",
    "    print(i+1, \"Here's something you say to people when you see them: \", greeting[i])"
   ]
  },
  {
   "cell_type": "markdown",
   "metadata": {},
   "source": [
    "Did you figure it out?  I kind of chuckled when I did it accidentally.  I highly recommend honing the ability to laugh at your computing mistakes. I'll tell you a secret. When I get frustrated coding (which happens regularly) I greatly enjoy putting swear words in my code, especially in print statements. It makes me feel better. Please don't turn anything in with expletives in it, but I highly encourage the development of coping strategies that make you laugh. \n",
    "\n",
    "The \"bug\" that happened is something we haven't talked about.  Each item in our list is actually a string. \"String\" here is a technical term meaning that it's a collection of characters as opposed to a number. Let me show you:\n",
    "\n",
    "** 11) Again, start by commenting the code to explain what it does.  For each of the three cells, start by reading the code and inserting comments that are your best guess of what is happening.  Then run the cell and adjust the comments. (One in-line comment and one block comment minimum in each of the 3 cells.)**"
   ]
  },
  {
   "cell_type": "code",
   "execution_count": null,
   "metadata": {},
   "outputs": [],
   "source": [
    "examplestring=\"Hello, my name is Andrea.\"\n",
    "print(examplestring[0])\n",
    "print(examplestring[1])\n",
    "print(examplestring[2])\n"
   ]
  },
  {
   "cell_type": "code",
   "execution_count": null,
   "metadata": {},
   "outputs": [],
   "source": [
    "# I seem to be repeating code a lot, which probably means I need a loop:\n",
    "for character in examplestring:\n",
    "    print(character)"
   ]
  },
  {
   "cell_type": "code",
   "execution_count": null,
   "metadata": {},
   "outputs": [],
   "source": [
    "# I can also indicate substrings by giving ranges of indices.\n",
    "print(examplestring[0:6])\n",
    "print(examplestring[-7:-1])"
   ]
  },
  {
   "cell_type": "markdown",
   "metadata": {},
   "source": [
    "A comment about the mistake I showed you in exercise #9.\n",
    "* This kind of mistake happens all the time. What you did when you were trying to figure out what went wrong is called \"debugging\". The assumption is that there's a \"bug\" in your program, and you need to find it and get rid of it. Debugging is 50% of programming. Okay maybe 90% is more realistic. Some days it's 100%.  It's really good to develop an attitude of playful and optimistic intrique toward debugging.  It can be sort of like crime scene investigation sorting through the clues and figuring out what else to inspect. "
   ]
  },
  {
   "cell_type": "markdown",
   "metadata": {},
   "source": [
    "# If\n",
    "If gives you way to do something only if a particular expression is true. Let's repeat the loop above and see if we can use it in the loop.\n",
    "\n",
    "** 12) Again, start by commenting the code to explain what it does.  Start by reading the code and inserting comments that are your best guess of what is happening.  Then run the code and adjust the comments. (2 in-line comments, 1 block comment.)**"
   ]
  },
  {
   "cell_type": "code",
   "execution_count": null,
   "metadata": {},
   "outputs": [],
   "source": [
    "for character in examplestring:\n",
    "    if (character=='a' or character=='m'):\n",
    "        print(character)"
   ]
  },
  {
   "cell_type": "markdown",
   "metadata": {},
   "source": [
    "Oh that's funny I swear I didn't even do that on purpose!!   Also, I want you to know that the first time I wrote the \"if\" statement I forgot the double equal sign and got an error message that said:\n",
    "\n",
    "    if (character='a' or character='m'):\n",
    "                 ^\n",
    "SyntaxError: invalid syntax\n",
    "\n",
    "Try it and you'll see the same thing. It didn't really tell me what was wrong, but the little carrot pointed to that equal sign and that helped me remember that I needed two equals signs. Over the course of the semester you'll get good at dealing with the sometimes obtuse error messages you receive from python. It's part of the joy and crime-scene investigation nature of debugging."
   ]
  },
  {
   "cell_type": "markdown",
   "metadata": {},
   "source": [
    "** 13) Create a cell below this one. In it, create a string using the \"assignment operator\" (aka the equal sign), and then print only part of it using a loop and an \"if\" statement.  Document (aka comment) your code of course. From here on out, I'll expect all code to be documented. **"
   ]
  },
  {
   "cell_type": "markdown",
   "metadata": {},
   "source": [
    "# Review of the lab\n",
    "Things you practiced in this lab:\n",
    "* if\n",
    "* loop\n",
    "* print\n",
    "* lists\n",
    "* append\n",
    "* the different between = and ==\n",
    "\n",
    "Some lingo you learned and/or practiced:\n",
    "* Using Jupyter notebooks\n",
    "* Switching between markdown and code cells\n",
    "* Executing code cells\n",
    "* return (We didn't explicitly talk about this, but you're starting to see it. We use that word to describe what we get back from particular function like \"len\".  We say \"len returns the length of the list.\")\n",
    "* \"function\", \"arguments\"\n",
    "\n",
    "Concepts and Functions you learned from this lab:\n",
    "* len(list) tells you the length of a list\n",
    "* range(start, stop, interval) or just len(stop) returns a series of numbers\n",
    "* Good commenting practices, aka \"documentation\"\n",
    "* strings and how to reference them\n",
    "* Debugging is part of programming and it's like crime scene investigation.\n",
    "* There are multiple ways to do things, and it's good to think about the elegance and/or simplicity of your solution.\n",
    "* Making mistakes and things not working is an integral part of programming (and of life, for that matter)"
   ]
  },
  {
   "cell_type": "markdown",
   "metadata": {},
   "source": [
    "## 14) Please create a markdown cell below this one, and tell me some thoughts you have about programming now that you've done some. How are you doing developing an attitude of playful and optimistic intrigue? What are your thoughts on computers being dumb? Are you starting to get a sense of the power of computing, or are you not there yet? When you looked at the \"review\" cell just above, which parts feel the shakiest?  All answers ok. I would just like to get a sense of where you are."
   ]
  },
  {
   "cell_type": "markdown",
   "metadata": {},
   "source": [
    "## Saving and handing in your work! \n",
    "We're not done with this lab yet, but you've done some good work!  You should save it by clicking the save icon above.  Nicely, jupyter will also help you revert to previous versions if it turns out you messed up and want to go back in time.  Try this out - first, *save and checkpoint your work.*  Then add a markdown cell below this one with some filler text.  Then under File choose Revert to Checkpoint and press the red revert button when it appears.  The filler text should go away.\n",
    "\n",
    "** 15) Upload your work to the git-classroom repository. There's a tab on the class web page telling you how to do that.**\n",
    "    \n"
   ]
  }
 ],
 "metadata": {
  "kernelspec": {
   "display_name": "Python 2",
   "language": "python",
   "name": "python2"
  },
  "language_info": {
   "codemirror_mode": {
    "name": "ipython",
    "version": 3
   },
   "file_extension": ".py",
   "mimetype": "text/x-python",
   "name": "python",
   "nbconvert_exporter": "python",
   "pygments_lexer": "ipython3",
   "version": "3.5.2"
  }
 },
 "nbformat": 4,
 "nbformat_minor": 1
}
